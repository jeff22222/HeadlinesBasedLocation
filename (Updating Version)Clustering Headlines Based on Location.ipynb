{
  "cells": [
    {
      "metadata": {},
      "cell_type": "markdown",
      "source": "### Read in and Examine Data"
    },
    {
      "metadata": {},
      "cell_type": "markdown",
      "source": "First, let's read in our data and make sure it looks right. We want to check there are no missing values and the data types are floats for latitude and longitude."
    },
    {
      "metadata": {
        "trusted": true
      },
      "cell_type": "code",
      "source": "import pandas as pd\n\ndata = pd.read_csv('processed_headlines_locations.csv', index_col=0)\ndata[['headline', 'city', 'latitude', 'longitude', 'countrycode']].head()",
      "execution_count": 1,
      "outputs": [
        {
          "output_type": "execute_result",
          "execution_count": 1,
          "data": {
            "text/html": "<div>\n<style scoped>\n    .dataframe tbody tr th:only-of-type {\n        vertical-align: middle;\n    }\n\n    .dataframe tbody tr th {\n        vertical-align: top;\n    }\n\n    .dataframe thead th {\n        text-align: right;\n    }\n</style>\n<table border=\"1\" class=\"dataframe\">\n  <thead>\n    <tr style=\"text-align: right;\">\n      <th></th>\n      <th>headline</th>\n      <th>city</th>\n      <th>latitude</th>\n      <th>longitude</th>\n      <th>countrycode</th>\n    </tr>\n  </thead>\n  <tbody>\n    <tr>\n      <th>0</th>\n      <td>Zika Outbreak Hits Miami</td>\n      <td>Miami</td>\n      <td>25.77427</td>\n      <td>-80.19366</td>\n      <td>US</td>\n    </tr>\n    <tr>\n      <th>1</th>\n      <td>Could Zika Reach New York City?</td>\n      <td>New York City</td>\n      <td>40.71427</td>\n      <td>-74.00597</td>\n      <td>US</td>\n    </tr>\n    <tr>\n      <th>2</th>\n      <td>First Case of Zika in Miami Beach</td>\n      <td>Miami Beach</td>\n      <td>25.79065</td>\n      <td>-80.13005</td>\n      <td>US</td>\n    </tr>\n    <tr>\n      <th>3</th>\n      <td>Mystery Virus Spreads in Recife, Brazil</td>\n      <td>Recife</td>\n      <td>-8.05389</td>\n      <td>-34.88111</td>\n      <td>BR</td>\n    </tr>\n    <tr>\n      <th>4</th>\n      <td>Dallas man comes down with case of Zika</td>\n      <td>Dallas</td>\n      <td>32.78306</td>\n      <td>-96.80667</td>\n      <td>US</td>\n    </tr>\n  </tbody>\n</table>\n</div>",
            "text/plain": "                                  headline           city  latitude  \\\n0                 Zika Outbreak Hits Miami          Miami  25.77427   \n1          Could Zika Reach New York City?  New York City  40.71427   \n2        First Case of Zika in Miami Beach    Miami Beach  25.79065   \n3  Mystery Virus Spreads in Recife, Brazil         Recife  -8.05389   \n4  Dallas man comes down with case of Zika         Dallas  32.78306   \n\n   longitude countrycode  \n0  -80.19366          US  \n1  -74.00597          US  \n2  -80.13005          US  \n3  -34.88111          BR  \n4  -96.80667          US  "
          },
          "metadata": {}
        }
      ]
    },
    {
      "metadata": {
        "trusted": true
      },
      "cell_type": "code",
      "source": "print('Missing Values:')\ndata.isna().sum()",
      "execution_count": 2,
      "outputs": [
        {
          "output_type": "stream",
          "text": "Missing Values:\n",
          "name": "stdout"
        },
        {
          "output_type": "execute_result",
          "execution_count": 2,
          "data": {
            "text/plain": "headline         0\ncity             0\naccented_city    0\ncountrycode      0\nlatitude         0\nlongitude        0\npop              0\ndtype: int64"
          },
          "metadata": {}
        }
      ]
    },
    {
      "metadata": {
        "trusted": true
      },
      "cell_type": "code",
      "source": "data.info()",
      "execution_count": 3,
      "outputs": [
        {
          "output_type": "stream",
          "text": "<class 'pandas.core.frame.DataFrame'>\nInt64Index: 605 entries, 0 to 646\nData columns (total 7 columns):\nheadline         605 non-null object\ncity             605 non-null object\naccented_city    605 non-null object\ncountrycode      605 non-null object\nlatitude         605 non-null float64\nlongitude        605 non-null float64\npop              605 non-null float64\ndtypes: float64(3), object(4)\nmemory usage: 37.8+ KB\n",
          "name": "stdout"
        }
      ]
    },
    {
      "metadata": {},
      "cell_type": "markdown",
      "source": "# Clustering using DBSCAN"
    },
    {
      "metadata": {
        "trusted": true
      },
      "cell_type": "code",
      "source": "from sklearn.cluster import DBSCAN\n\nclusterer = DBSCAN()\nclusterer",
      "execution_count": 5,
      "outputs": [
        {
          "output_type": "execute_result",
          "execution_count": 5,
          "data": {
            "text/plain": "DBSCAN(algorithm='auto', eps=0.5, leaf_size=30, metric='euclidean',\n    metric_params=None, min_samples=5, n_jobs=None, p=None)"
          },
          "metadata": {}
        }
      ]
    },
    {
      "metadata": {},
      "cell_type": "markdown",
      "source": "### Distance Metric: Euclidean"
    },
    {
      "metadata": {
        "trusted": true
      },
      "cell_type": "code",
      "source": "def cluster_location(clusterer, data, lat_string=\"latitude\", lon_string=\"longitude\"):\n    \"\"\"\n    Fit a clustering algorithm on location data.\n    \"\"\"\n    features = data[[lat_string, lon_string]].copy()\n    clusterer.fit(features)\n    # Assign the cluster labels\n    data[\"cluster\"] = clusterer.labels_\n    return data",
      "execution_count": 6,
      "outputs": []
    },
    {
      "metadata": {
        "trusted": true
      },
      "cell_type": "code",
      "source": "data = cluster_location(clusterer, data)\ndata['cluster'].value_counts()",
      "execution_count": 7,
      "outputs": [
        {
          "output_type": "execute_result",
          "execution_count": 7,
          "data": {
            "text/plain": "-1    476\n 4     26\n 1     21\n 0     19\n 6     14\n 7     12\n 3     12\n 5      8\n 9      6\n 2      6\n 8      5\nName: cluster, dtype: int64"
          },
          "metadata": {}
        }
      ]
    },
    {
      "metadata": {
        "trusted": true
      },
      "cell_type": "code",
      "source": "clusterer.eps = 9\ndata = cluster_location(clusterer, data)\ndata['cluster'].value_counts()",
      "execution_count": 8,
      "outputs": [
        {
          "output_type": "execute_result",
          "execution_count": 8,
          "data": {
            "text/plain": " 0     371\n 2      59\n 3      57\n-1      32\n 1      21\n 5      16\n 8       9\n 4       9\n 6       8\n 11      7\n 9       6\n 7       6\n 10      4\nName: cluster, dtype: int64"
          },
          "metadata": {}
        }
      ]
    },
    {
      "metadata": {},
      "cell_type": "markdown",
      "source": "-1 in this library indicates the point is an outlier (noise) and has not been assigned to any cluster."
    },
    {
      "metadata": {
        "trusted": true
      },
      "cell_type": "code",
      "source": "clusterer.min_samples = 3\ndata = cluster_location(clusterer, data)\ndata['cluster'].value_counts()",
      "execution_count": 9,
      "outputs": [
        {
          "output_type": "execute_result",
          "execution_count": 9,
          "data": {
            "text/plain": " 0     373\n 4      62\n 2      59\n 1      21\n-1      16\n 8      16\n 11      9\n 10      9\n 5       9\n 9       8\n 12      6\n 7       6\n 3       5\n 13      3\n 6       3\nName: cluster, dtype: int64"
          },
          "metadata": {}
        }
      ]
    },
    {
      "metadata": {
        "trusted": true
      },
      "cell_type": "code",
      "source": "best_euclidean_clusterer = DBSCAN(\n    eps=9, min_samples=3, metric=\"euclidean\",\n)\ndata = cluster_location(best_euclidean_clusterer, data)",
      "execution_count": 10,
      "outputs": []
    },
    {
      "metadata": {
        "trusted": true
      },
      "cell_type": "code",
      "source": "!pip install --user git+https://github.com/matplotlib/basemap.git",
      "execution_count": 23,
      "outputs": [
        {
          "output_type": "stream",
          "text": "Collecting git+https://github.com/matplotlib/basemap.git\n  Cloning https://github.com/matplotlib/basemap.git to /tmp/pip-req-build-xxkumzm4\n  Running command git clone -q https://github.com/matplotlib/basemap.git /tmp/pip-req-build-xxkumzm4\n  fatal: unable to access 'https://github.com/matplotlib/basemap.git/': The requested URL returned error: 504\n\u001b[31mERROR: Command errored out with exit status 128: git clone -q https://github.com/matplotlib/basemap.git /tmp/pip-req-build-xxkumzm4 Check the logs for full command output.\u001b[0m\n\u001b[33mWARNING: You are using pip version 19.3.1; however, version 20.0.2 is available.\nYou should consider upgrading via the 'pip install --upgrade pip' command.\u001b[0m\n",
          "name": "stdout"
        }
      ]
    },
    {
      "metadata": {
        "trusted": true
      },
      "cell_type": "code",
      "source": "from matplotlib.basemap import Basemap\nimport matplotlib.pyplot as plt\n\nplt.rcParams['font.size'] = 18\n\n%matplotlib inline\n\n# Simple world map\nm = Basemap()\n_ = m.shadedrelief()",
      "execution_count": 22,
      "outputs": [
        {
          "output_type": "error",
          "ename": "ModuleNotFoundError",
          "evalue": "No module named 'matplotlib.basemap'",
          "traceback": [
            "\u001b[0;31m---------------------------------------------------------------------------\u001b[0m",
            "\u001b[0;31mModuleNotFoundError\u001b[0m                       Traceback (most recent call last)",
            "\u001b[0;32m<ipython-input-22-75f3d4496958>\u001b[0m in \u001b[0;36m<module>\u001b[0;34m\u001b[0m\n\u001b[0;32m----> 1\u001b[0;31m \u001b[0;32mfrom\u001b[0m \u001b[0mmatplotlib\u001b[0m\u001b[0;34m.\u001b[0m\u001b[0mbasemap\u001b[0m \u001b[0;32mimport\u001b[0m \u001b[0mBasemap\u001b[0m\u001b[0;34m\u001b[0m\u001b[0m\n\u001b[0m\u001b[1;32m      2\u001b[0m \u001b[0;32mimport\u001b[0m \u001b[0mmatplotlib\u001b[0m\u001b[0;34m.\u001b[0m\u001b[0mpyplot\u001b[0m \u001b[0;32mas\u001b[0m \u001b[0mplt\u001b[0m\u001b[0;34m\u001b[0m\u001b[0m\n\u001b[1;32m      3\u001b[0m \u001b[0;34m\u001b[0m\u001b[0m\n\u001b[1;32m      4\u001b[0m \u001b[0mplt\u001b[0m\u001b[0;34m.\u001b[0m\u001b[0mrcParams\u001b[0m\u001b[0;34m[\u001b[0m\u001b[0;34m'font.size'\u001b[0m\u001b[0;34m]\u001b[0m \u001b[0;34m=\u001b[0m \u001b[0;36m18\u001b[0m\u001b[0;34m\u001b[0m\u001b[0m\n\u001b[1;32m      5\u001b[0m \u001b[0;34m\u001b[0m\u001b[0m\n",
            "\u001b[0;31mModuleNotFoundError\u001b[0m: No module named 'matplotlib.basemap'"
          ]
        }
      ]
    },
    {
      "metadata": {},
      "cell_type": "markdown",
      "source": "Drawing a simple map with `basemap` is very easy. Now, we have to map the latitude and longitude onto the map. This requires converting the latitude and longitude coordinates to the map coordinates."
    },
    {
      "metadata": {
        "trusted": true
      },
      "cell_type": "code",
      "source": "import matplotlib.pyplot as plt\n\n# Make an empty figure\nplt.figure(figsize=(16, 10))\n\n# Convert the longitude, latitude to map projection coordinates\nx, y = m(x=data[\"longitude\"], y=data[\"latitude\"])\n\nm.shadedrelief()\n\n# Plot the headline locations\nplt.scatter(x, y, 20, marker=\"o\", color=\"red\")\n\n# Grab the current axis to set the title (gca)\nax = plt.gca()\n_ = ax.set_title(\"Locations of Headlines\", size=20)",
      "execution_count": null,
      "outputs": []
    },
    {
      "metadata": {},
      "cell_type": "markdown",
      "source": "Plotting Clusters\nNow, we need to associate colors with each cluster. The easiest way to do this is to iterate through each cluster and plot one cluster at a time with a different color. We'll add a legend for interpretation."
    },
    {
      "metadata": {
        "trusted": true
      },
      "cell_type": "code",
      "source": "plt.figure(figsize=(16, 10))\n\nm.shadedrelief()\ndata[\"x\"], data[\"y\"] = x, y\n\n# Iterate through each cluster and plot\nfor cluster, grouped in data.groupby(\"cluster\"):\n    plt.scatter(grouped[\"x\"], grouped[\"y\"], 20, marker=\"o\", label=f\"Cluster: {cluster}\")\n\n# Grab the figure to set the title and make a legend\nax = plt.gca()\nax.legend()\n_ = ax.set_title(\"Locations of Headlines\", size=20)",
      "execution_count": null,
      "outputs": []
    },
    {
      "metadata": {},
      "cell_type": "markdown",
      "source": "Now we have a map with each point colored by cluster membership. We can put our plotting code into a function to make our plots repeatedly. We'll color points not in any cluster black and let matplotlib choose colors for other clusters."
    },
    {
      "metadata": {
        "trusted": true
      },
      "cell_type": "code",
      "source": "def plot_clusters(data):\n    \"\"\"\n    Plot clustered data on a basemap.\n    \"\"\"\n    plt.figure(figsize=(16, 10))\n    m.shadedrelief()\n\n    # Iterate through each cluster and plot\n    for cluster, grouped in data.groupby(\"cluster\"):\n        if cluster == -1:\n            # Handle the unassigned headlines\n            plt.scatter(\n                grouped[\"x\"],\n                grouped[\"y\"],\n                s=60,\n                alpha=0.8,\n                marker=\"o\",\n                label=f\"Cluster: None\",\n                c=\"k\",\n            )\n        else:\n            plt.scatter(\n                grouped[\"x\"],\n                grouped[\"y\"],\n                s=60,\n                alpha=0.8,\n                marker=\"o\",\n                label=f\"Cluster: {cluster}\",\n            )\n\n    # Add a legend and title (put legend to right of plot)\n    ax = plt.gca()\n    ax.legend(loc=(1, 0))\n    _ = ax.set_title(\"Locations of Headlines\", size=20)",
      "execution_count": null,
      "outputs": []
    },
    {
      "metadata": {
        "trusted": true
      },
      "cell_type": "code",
      "source": "plot_clusters(data)\nplt.savefig('euclidean_clustering_map.png')",
      "execution_count": null,
      "outputs": []
    },
    {
      "metadata": {},
      "cell_type": "markdown",
      "source": "Implementation\nTo use the Haversine formula, we have to write a function which returns the Great Circle distance between two latitude and longitude numpy arrays"
    },
    {
      "metadata": {
        "trusted": true
      },
      "cell_type": "code",
      "source": "import numpy as np\n\ndef great_circle_distance(coord1, coord2, radius=3956):\n    \"\"\"\n    Calculates the great circle distance between two coordinates or arrays of coordinates.\n    \"\"\"\n    if np.array_equal(coord1, coord2):\n        return 0.0\n\n    # Convert lat/lon to radians\n    coord1, coord2 = np.radians(coord1), np.radians(coord2)\n    # Find the difference between the coordinates\n    delta_x, delta_y = coord2 - coord1\n    \n    # Apply Haversin formula\n    haversin = np.sin(delta_x / 2) ** 2 + np.product(\n        [np.cos(coord1[0]), np.cos(coord2[0]), np.sin(delta_y / 2) ** 2]\n    )\n\n    # Convert to distance in miles\n    return 2 * radius * np.arcsin(haversin ** 0.5)",
      "execution_count": null,
      "outputs": []
    },
    {
      "metadata": {},
      "cell_type": "markdown",
      "source": "When we pass in coordinates, each column of the array should be a point. The first row contains the latitude and the second the longitude.\n\nLet's test this on our first three headlines."
    },
    {
      "metadata": {
        "trusted": true
      },
      "cell_type": "code",
      "source": "data.head()",
      "execution_count": null,
      "outputs": []
    },
    {
      "metadata": {
        "trusted": true
      },
      "cell_type": "code",
      "source": "coord1 = np.array(\n    [\n        [data[\"latitude\"].iloc[0], data[\"latitude\"].iloc[1]],\n        [data[\"longitude\"].iloc[0], data[\"longitude\"].iloc[1]],\n    ]\n)\n\ncoord2 = np.array(\n    [\n        [data[\"latitude\"].iloc[2], data[\"latitude\"].iloc[0]],\n        [data[\"longitude\"].iloc[2], data[\"longitude\"].iloc[0]],\n    ]\n)\n\n# Calculate distance between points\ngreat_circle_distance(coord1, coord2)",
      "execution_count": null,
      "outputs": []
    },
    {
      "metadata": {
        "trusted": true
      },
      "cell_type": "code",
      "source": "from IPython.display import Image\nImage('../figs/distance-check.png')",
      "execution_count": null,
      "outputs": []
    },
    {
      "metadata": {},
      "cell_type": "markdown",
      "source": "Using Great Circle Distance\nTo use the Great Circle Distance, we pass in the metric function (a callable) to the metric keyword parameter. We'll use a slightly different value - 250 miles - for eps now that we are using distance in miles between points. The min_samples will increase to 4 cities."
    },
    {
      "metadata": {
        "trusted": true
      },
      "cell_type": "code",
      "source": "great_circle_clusterer = DBSCAN(\n    eps=250, min_samples=4, metric=great_circle_distance,\n)\n\n# Cluster using great circle distance\ndata = cluster_location(\n     great_circle_clusterer, data, lon_string=\"longitude\", lat_string=\"latitude\"\n)\n\ndata[\"cluster\"].value_counts()",
      "execution_count": null,
      "outputs": []
    },
    {
      "metadata": {
        "trusted": true
      },
      "cell_type": "code",
      "source": "Great Circle Clustering Map",
      "execution_count": null,
      "outputs": []
    },
    {
      "metadata": {
        "trusted": true
      },
      "cell_type": "code",
      "source": "_ = plot_clusters(data)",
      "execution_count": null,
      "outputs": []
    },
    {
      "metadata": {
        "trusted": true
      },
      "cell_type": "code",
      "source": "from IPython.display import Image\nImage('../figs/euclidean_clustering_map.png')",
      "execution_count": null,
      "outputs": []
    },
    {
      "metadata": {},
      "cell_type": "markdown",
      "source": "Each clustering has mistakes, but overall, the Euclidean clustering appears better.\n\nAs one more experiment, let's trying using the Manhattan Distance between points for the metric. This simply adds together the x and y differences to get a total distance between points."
    },
    {
      "metadata": {
        "trusted": true
      },
      "cell_type": "code",
      "source": "manhattan_clusterer = DBSCAN(\n    eps=9, min_samples=3, metric=\"manhattan\",\n)\ndata = cluster_location(manhattan_clusterer, data)",
      "execution_count": null,
      "outputs": []
    },
    {
      "metadata": {
        "trusted": true
      },
      "cell_type": "code",
      "source": "_ = plot_clusters(data)",
      "execution_count": null,
      "outputs": []
    },
    {
      "metadata": {},
      "cell_type": "markdown",
      "source": "KMeans\nThe second method to try for clustering is the KMeans algorithm. KMeans places data points into k clusters - chosen ahead of time by the programmer - where each data point belongs to the cluster with the nearest mean. We'll use Scikit-Learn (sklearn.cluster.KMeans) for the implementation."
    },
    {
      "metadata": {
        "trusted": true
      },
      "cell_type": "code",
      "source": "from sklearn.cluster import KMeans\n\nkmeans_clusterer = KMeans()\nkmeans_clusterer",
      "execution_count": null,
      "outputs": []
    },
    {
      "metadata": {},
      "cell_type": "markdown",
      "source": "We'll try a range of values for the number of clusters, n_clusters. For each value, we'll record the inertia, the within-cluster sum-of-squares criterion. This is the loss KMeans attempts to minimize."
    },
    {
      "metadata": {
        "trusted": true
      },
      "cell_type": "code",
      "source": "inertia_values = []\n\nfor k in range(1, 11):\n    inertia_values.append(KMeans(n_clusters=k).fit(data[['latitude', 'longitude']]).inertia_)",
      "execution_count": null,
      "outputs": []
    },
    {
      "metadata": {
        "trusted": true
      },
      "cell_type": "code",
      "source": "plt.figure(figsize=(16, 10))\nplt.plot(range(1, 11), inertia_values);\nplt.title('Inertia Values by Number of Clusters');\nplt.xlabel('Number of Clusters');\nplt.ylabel('Intertia');",
      "execution_count": null,
      "outputs": []
    },
    {
      "metadata": {},
      "cell_type": "markdown",
      "source": "The elbow of the plot is at 3 clusters. At this value, we get a low inertia without a large number of clusters."
    },
    {
      "metadata": {
        "trusted": true
      },
      "cell_type": "code",
      "source": "kmeans_clusterer = KMeans(n_clusters=3)\ndata = cluster_location(kmeans_clusterer, data)\nplot_clusters(data)",
      "execution_count": null,
      "outputs": []
    },
    {
      "metadata": {},
      "cell_type": "markdown",
      "source": "Three clusters appears to be too few. Let's increase it to 8."
    },
    {
      "metadata": {
        "trusted": true
      },
      "cell_type": "code",
      "source": "kmeans_clusterer = KMeans(n_clusters=8)\ndata = cluster_location(kmeans_clusterer, data)\nplot_clusters(data)",
      "execution_count": null,
      "outputs": []
    },
    {
      "metadata": {},
      "cell_type": "markdown",
      "source": "World Plot\nFor the final output of this section, we'll create a plot using the best-identified clusterer without the outliers."
    },
    {
      "metadata": {
        "trusted": true
      },
      "cell_type": "code",
      "source": "best_clusterer = DBSCAN(eps=9, metric=\"euclidean\", min_samples=3)\ndata = cluster_location(best_clusterer, data)\nplot_clusters(data[data['cluster'] != -1])\nplt.savefig('../figs/entire_world_clustering.png')",
      "execution_count": null,
      "outputs": []
    },
    {
      "metadata": {
        "trusted": true
      },
      "cell_type": "code",
      "source": "plot_clusters(data[data['cluster'] != -1].sample(frac=0.10))\nax = plt.gca()\nplt.rcParams['font.size'] = 22\nax.set_title('Sample of Headlines with Clusters');",
      "execution_count": null,
      "outputs": []
    },
    {
      "metadata": {},
      "cell_type": "markdown",
      "source": "Cluster Distribution\nThe clusters are not great - noticeably the entire United States is in one cluster. The distributions of points in clusters is also skewed, with one massive cluster and several smaller ones with only a few headlines"
    },
    {
      "metadata": {
        "trusted": true
      },
      "cell_type": "code",
      "source": "_ = data['cluster'].value_counts().plot.bar(title='Cluster Distribution')",
      "execution_count": null,
      "outputs": []
    },
    {
      "metadata": {},
      "cell_type": "markdown",
      "source": "Nearly half of the headlines are from the United States, so we might have to cluster the data separately."
    },
    {
      "metadata": {
        "trusted": true
      },
      "cell_type": "code",
      "source": "data.groupby('countrycode')['cluster'].value_counts()['US']",
      "execution_count": null,
      "outputs": []
    },
    {
      "metadata": {},
      "cell_type": "markdown",
      "source": "Given the skewed distribution from the United States, it will make sense to cluster the US and the world separately. We'll do this in the next notebook. For now, we know how to use the algorithms and can see there are definitely groups of headlines which may indicate disease outbreaks."
    },
    {
      "metadata": {
        "trusted": true
      },
      "cell_type": "code",
      "source": "data.to_csv('../data/processed_headlines_clustered.csv')",
      "execution_count": null,
      "outputs": []
    },
    {
      "metadata": {
        "trusted": true
      },
      "cell_type": "code",
      "source": "data[['headline', 'city', 'latitude', 'longitude', 'countrycode', 'cluster']].head(10)",
      "execution_count": null,
      "outputs": []
    },
    {
      "metadata": {
        "trusted": true
      },
      "cell_type": "code",
      "source": "from IPython.display import Image\n\nImage('../figs/entire_world_clustering.png')",
      "execution_count": null,
      "outputs": []
    },
    {
      "metadata": {
        "trusted": true
      },
      "cell_type": "code",
      "source": "data[['headline', 'city', 'latitude', 'longitude', 'countrycode', 'cluster']].to_csv('../data/clustered_data.csv')",
      "execution_count": null,
      "outputs": []
    }
  ],
  "metadata": {
    "kernelspec": {
      "name": "python36",
      "display_name": "Python 3.6",
      "language": "python"
    },
    "language_info": {
      "mimetype": "text/x-python",
      "nbconvert_exporter": "python",
      "name": "python",
      "pygments_lexer": "ipython3",
      "version": "3.6.6",
      "file_extension": ".py",
      "codemirror_mode": {
        "version": 3,
        "name": "ipython"
      }
    }
  },
  "nbformat": 4,
  "nbformat_minor": 1
}